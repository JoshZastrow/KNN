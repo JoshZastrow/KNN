{
 "cells": [
  {
   "cell_type": "markdown",
   "metadata": {},
   "source": [
    "# Softmax exercise\n",
    "\n",
    "*Complete and hand in this completed worksheet (including its outputs and any supporting code outside of the worksheet) with your assignment submission. For more details see the [assignments page](http://vision.stanford.edu/teaching/cs231n/assignments.html) on the course website.*\n",
    "\n",
    "This exercise is analogous to the SVM exercise. You will:\n",
    "\n",
    "- implement a fully-vectorized **loss function** for the Softmax classifier\n",
    "- implement the fully-vectorized expression for its **analytic gradient**\n",
    "- **check your implementation** with numerical gradient\n",
    "- use a validation set to **tune the learning rate and regularization** strength\n",
    "- **optimize** the loss function with **SGD**\n",
    "- **visualize** the final learned weights\n"
   ]
  },
  {
   "cell_type": "code",
   "execution_count": 13,
   "metadata": {
    "collapsed": false
   },
   "outputs": [
    {
     "name": "stdout",
     "output_type": "stream",
     "text": [
      "The autoreload extension is already loaded. To reload it, use:\n",
      "  %reload_ext autoreload\n"
     ]
    }
   ],
   "source": [
    "import random\n",
    "from cs231n.data_utils import load_CIFAR10\n",
    "import matplotlib.pyplot as plt\n",
    "\n",
    "np.set_printoptions(precision=3)\n",
    "\n",
    "%matplotlib inline\n",
    "plt.rcParams['figure.figsize'] = (10.0, 8.0) # set default size of plots\n",
    "plt.rcParams['image.interpolation'] = 'nearest'\n",
    "plt.rcParams['image.cmap'] = 'gray'\n",
    "\n",
    "# for auto-reloading extenrnal modules\n",
    "# see http://stackoverflow.com/questions/1907993/autoreload-of-modules-in-ipython\n",
    "%load_ext autoreload\n",
    "%autoreload 2"
   ]
  },
  {
   "cell_type": "code",
   "execution_count": 14,
   "metadata": {
    "collapsed": false,
    "scrolled": true
   },
   "outputs": [
    {
     "name": "stdout",
     "output_type": "stream",
     "text": [
      "\n",
      "\n",
      "Shape of raw data from dataset:\n",
      "Training set\n",
      "(1000, 32, 32, 3)\n",
      "\n",
      "Label set:\n",
      "(1000,)\n",
      "\n",
      "Reshaped data to M x N (examples x features):\n",
      "Train data shape:\t (48000, 3072)\n",
      "Train labels shape:\t (48000,)\n",
      "Validation data shape:\t (1000, 3072)\n",
      "Validation labels shape: (1000,)\n",
      "Test data shape:\t (1000, 3072)\n",
      "Test labels shape:\t (1000,)\n",
      "\n",
      "Shape after adding bias dimension and transforming into columns:\n",
      "Train data shape:\t (3073, 48000)\n",
      "Train labels shape:\t (48000,)\n",
      "Validation data shape:\t (3073, 1000)\n",
      "Validation labels shape: (1000,)\n",
      "Test data shape:\t (3073, 1000)\n",
      "Test labels shape:\t (1000,)\n"
     ]
    }
   ],
   "source": [
    "def get_CIFAR10_data(num_training=49000, num_validation=1000, num_test=1000):\n",
    "    \"\"\"\n",
    "    Load the CIFAR-10 dataset from disk and perform preprocessing to prepare\n",
    "    it for the linear classifier. These are the same steps as we used for the\n",
    "    SVM, but condensed to a single function.\n",
    "    \"\"\"\n",
    "    # Load the raw CIFAR-10 data\n",
    "    cifar10_dir = 'cs231n/datasets/cifar-10-batches-py'\n",
    "    X_train, y_train, X_tests, y_test = load_CIFAR10(cifar10_dir)\n",
    "\n",
    "    # subsample the data \n",
    "    mask = range(num_training, num_training + num_validation)\n",
    "    X_valid = X_train[mask]\n",
    "    y_val = y_train[mask]\n",
    "    \n",
    "    mask = range(num_test, num_training)\n",
    "    X_train = X_train[mask]\n",
    "    y_train = y_train[mask]\n",
    "    \n",
    "    mask = range(num_test)\n",
    "    X_tests = X_test[mask]\n",
    "    y_test = y_test[mask]\n",
    "    \n",
    "    # Shape of the data that comes in\n",
    "    print('\\n\\nShape of raw data from dataset:')\n",
    "    print('Training set\\n{}\\n\\nLabel set:\\n{}\\n'\n",
    "          .format(X_test.shape, y_test.shape))\n",
    "    \n",
    "    # Preprocessing: reshape the image data into rows\n",
    "    X_train = np.reshape(X_train, (X_train.shape[0], -1))\n",
    "    X_valid = np.reshape(X_valid, (X_valid.shape[0], -1))\n",
    "    X_tests = np.reshape(X_tests, (X_tests.shape[0], -1))\n",
    "\n",
    "    # Normalize the data: subtract the mean image\n",
    "    mean_image = np.mean(X_train, axis=0)\n",
    "    X_train -= mean_image\n",
    "    X_valid -= mean_image\n",
    "    X_tests -= mean_image\n",
    "\n",
    "    # current shape\n",
    "    print('Reshaped data to M x N (examples x features):')\n",
    "    print('Train data shape:\\t', X_train.shape)\n",
    "    print('Train labels shape:\\t', y_train.shape)\n",
    "    print('Validation data shape:\\t', X_val.shape)\n",
    "    print('Validation labels shape:', y_val.shape)\n",
    "    print('Test data shape:\\t', X_test.shape)\n",
    "    print('Test labels shape:\\t', y_test.shape)\n",
    "\n",
    "    # add bias dimension and transform into columns\n",
    "    b_train = np.ones((X_train.shape[0], 1))\n",
    "    b_valid = np.ones((X_valid.shape[0], 1))\n",
    "    b_tests = np.ones((X_tests.shape[0], 1))\n",
    "    \n",
    "    X_train = np.hstack([X_train, b_train]).T\n",
    "    X_valid = np.hstack([X_valid, b_valid]).T\n",
    "    X_tests = np.hstack([X_tests, b_tests]).T\n",
    "\n",
    "    return X_train, y_train, X_valid, y_val, X_tests, y_test\n",
    "\n",
    "\n",
    "# Invoke the above function to get our data.\n",
    "X_train, y_train, X_val, y_val, X_test, y_test = get_CIFAR10_data()\n",
    "\n",
    "print('\\nShape after adding bias dimension and transforming into columns:')\n",
    "print('Train data shape:\\t', X_train.shape)\n",
    "print('Train labels shape:\\t', y_train.shape)\n",
    "print('Validation data shape:\\t', X_val.shape)\n",
    "print('Validation labels shape:', y_val.shape)\n",
    "print('Test data shape:\\t', X_test.shape)\n",
    "print('Test labels shape:\\t', y_test.shape)\n"
   ]
  },
  {
   "cell_type": "markdown",
   "metadata": {},
   "source": [
    "## Softmax Classifier\n",
    "\n",
    "Your code for this section will all be written inside **cs231n/classifiers/softmax.py**. \n"
   ]
  },
  {
   "cell_type": "code",
   "execution_count": 15,
   "metadata": {
    "collapsed": false
   },
   "outputs": [
    {
     "name": "stdout",
     "output_type": "stream",
     "text": [
      "Weight Matrix shape: (10, 3073)\n",
      "\n",
      "loss:\t\t2.325\n",
      "sanity check:\t2.303\n"
     ]
    }
   ],
   "source": [
    "# First implement the naive softmax loss function with nested loops.\n",
    "# Open the file cs231n/classifiers/softmax.py and implement the\n",
    "# softmax_loss_naive function.\n",
    "\n",
    "from cs231n.classifiers.softmax import softmax_loss_vectorized\n",
    "import time\n",
    "\n",
    "# Generate a random softmax weight matrix and use it to compute the loss.\n",
    "W = np.random.randn(10, 3073) * 0.0001\n",
    "print('Weight Matrix shape: {}\\n'.format(W.shape))\n",
    "loss, grad = softmax_loss_vectorized(W, X_train, y_train, 0.0)\n",
    "\n",
    "# As a rough sanity check, our loss should be something close to -log(0.1).\n",
    "print('loss:\\t\\t{:05.3f}'.format(loss))\n",
    "print('sanity check:\\t{:05.3f}'.format(-np.log(0.1)))"
   ]
  },
  {
   "cell_type": "markdown",
   "metadata": {},
   "source": [
    "## Comments on below:\n",
    "These relative errors seem too high... gradient algorithm seems kosher in softmax.py, revisit\n"
   ]
  },
  {
   "cell_type": "code",
   "execution_count": 16,
   "metadata": {
    "collapsed": false
   },
   "outputs": [
    {
     "name": "stdout",
     "output_type": "stream",
     "text": [
      "numerical: 1.382 analytic: 0.686, relative error: 0.337\n",
      "numerical: 1.258 analytic: -0.459, relative error: 1.000\n",
      "numerical: 0.171 analytic: 0.236, relative error: 0.159\n",
      "numerical: 0.343 analytic: -0.297, relative error: 1.000\n",
      "numerical: 0.276 analytic: 0.365, relative error: 0.138\n",
      "numerical: -0.331 analytic: 0.283, relative error: 1.000\n",
      "numerical: -3.958 analytic: -1.314, relative error: 0.501\n",
      "numerical: 0.510 analytic: -0.964, relative error: 1.000\n",
      "numerical: 0.967 analytic: 0.423, relative error: 0.391\n",
      "numerical: 1.848 analytic: 0.514, relative error: 0.565\n"
     ]
    }
   ],
   "source": [
    "# Complete the implementation of softmax_loss_naive and implement a (naive)\n",
    "# version of the gradient that uses nested loops.\n",
    "loss, grad = softmax_loss_vectorized(W, X_train, y_train, 0.0)\n",
    "\n",
    "# As we did for the SVM, use numeric gradient checking as a debugging tool.\n",
    "# The numeric gradient should be close to the analytic gradient.\n",
    "from cs231n.gradient_check import grad_check_sparse\n",
    "f = lambda w: softmax_loss_vectorized(w, X_train, y_train, 0.0)[0]\n",
    "grad_numerical = grad_check_sparse(f, W, grad, 10)"
   ]
  },
  {
   "cell_type": "code",
   "execution_count": 15,
   "metadata": {
    "collapsed": false
   },
   "outputs": [
    {
     "name": "stdout",
     "output_type": "stream",
     "text": [
      "naive loss: 2.343 computed in 6.452\n",
      "\n",
      "Initial Scores (Sample):\n",
      " [[ 0.348 -0.439  0.001  0.084 -0.135 -0.243 -0.589 -0.169 -0.08  -0.081]\n",
      " [-0.384  0.221  0.259 -0.582 -0.116 -0.212  0.032 -0.102  0.133 -0.145]\n",
      " [ 0.546 -0.101 -0.135 -0.093  0.265 -0.071  0.04   0.244  0.154  0.359]\n",
      " [-0.242  0.025  0.163  0.016 -0.022  0.351  0.757  0.179 -0.032 -0.386]\n",
      " [ 0.539 -0.479  0.113  0.228 -0.285  0.233  0.41  -0.007 -0.663 -0.148]\n",
      " [ 0.352 -0.523 -0.099 -0.262  0.028 -0.114  0.16   0.111 -0.392  0.165]\n",
      " [-0.236 -0.339  0.356  0.008  0.083  0.336  0.489 -0.197 -0.804 -0.51 ]\n",
      " [-0.126  0.463 -0.483 -0.112  0.063  0.145  0.061  0.63   0.498  0.398]\n",
      " [ 0.492 -0.2   -0.212 -0.394 -0.02  -0.545  0.077  0.003 -0.531  0.297]\n",
      " [-0.121  0.334  0.1   -0.224 -0.082  0.211 -0.454  0.1    0.159 -0.045]]\n",
      "\n",
      "Normalized Scores (Sample):\n",
      " [[-1.869 -2.657 -2.217 -2.134 -2.353 -2.46  -2.807 -2.386 -2.297 -2.298]\n",
      " [-2.601 -1.997 -1.958 -2.799 -2.333 -2.429 -2.185 -2.32  -2.084 -2.363]\n",
      " [-1.671 -2.319 -2.352 -2.31  -1.952 -2.288 -2.178 -1.974 -2.063 -1.859]\n",
      " [-2.46  -2.192 -2.055 -2.202 -2.24  -1.866 -1.46  -2.039 -2.25  -2.603]\n",
      " [-1.678 -2.697 -2.104 -1.989 -2.502 -1.984 -1.808 -2.225 -2.881 -2.365]\n",
      " [-1.865 -2.741 -2.316 -2.479 -2.189 -2.332 -2.057 -2.107 -2.61  -2.052]\n",
      " [-2.453 -2.557 -1.861 -2.21  -2.134 -1.881 -1.729 -2.414 -3.021 -2.727]\n",
      " [-2.343 -1.754 -2.7   -2.33  -2.154 -2.073 -2.156 -1.587 -1.72  -1.819]\n",
      " [-1.726 -2.418 -2.43  -2.611 -2.238 -2.762 -2.141 -2.215 -2.749 -1.921]\n",
      " [-2.338 -1.884 -2.117 -2.442 -2.299 -2.006 -2.671 -2.117 -2.059 -2.262]]\n",
      "\n",
      "Sum of class scores:\n",
      " [[-21.005 -23.214 -22.111 ..., -23.401 -22.415 -21.619]]\n",
      "\n",
      "Sum of class scores, exponentiated:\n",
      " [[ 1.3    1.04   1.125 ...,  1.001  1.156  1.264]]\n",
      "\n",
      "Score Probabilities (Sample):\n",
      " [[ 0.119  0.068  0.097  0.121  0.088  0.075  0.047  0.076  0.1    0.089]\n",
      " [ 0.057  0.131  0.125  0.062  0.09   0.077  0.087  0.081  0.124  0.084]\n",
      " [ 0.145  0.095  0.085  0.102  0.132  0.089  0.088  0.115  0.126  0.139]\n",
      " [ 0.066  0.107  0.114  0.113  0.099  0.136  0.18   0.107  0.105  0.066]\n",
      " [ 0.144  0.065  0.108  0.14   0.076  0.121  0.127  0.089  0.056  0.083]\n",
      " [ 0.119  0.062  0.088  0.086  0.104  0.085  0.099  0.1    0.073  0.114]\n",
      " [ 0.066  0.075  0.138  0.112  0.11   0.134  0.138  0.074  0.048  0.058]\n",
      " [ 0.074  0.166  0.06   0.1    0.108  0.11   0.09   0.169  0.178  0.144]\n",
      " [ 0.137  0.086  0.078  0.075  0.099  0.055  0.091  0.09   0.064  0.13 ]\n",
      " [ 0.074  0.146  0.107  0.089  0.093  0.118  0.054  0.099  0.127  0.093]]\n",
      "\n",
      "Check that probabilities sum to 1:\n",
      " [ 1.  1.  1. ...,  1.  1.  1.]\n",
      "\n",
      "Score Probabilities of Correct Classes(Sample):\n",
      " [ 0.074  0.065  0.114  0.102  0.076  0.121  0.087  0.089  0.126  0.139]\n",
      "\n",
      "Negative Log of probabilities:\n",
      " [ 2.601  2.736  2.173  2.287  2.575  2.115  2.44   2.417  2.07   1.976]\n",
      "vectorized loss: 2.343 computed in 0.496\n",
      "Loss difference: 0.000\n",
      "Gradient difference: 265.415\n"
     ]
    }
   ],
   "source": [
    "# Now that we have a naive implementation of the softmax loss function and its gradient,\n",
    "# implement a vectorized version in softmax_loss_vectorized.\n",
    "# The two versions should compute the same results, but the vectorized version should be\n",
    "# much faster.\n",
    "tic = time.time()\n",
    "loss_naive, grad_naive = softmax_loss_naive(W, X_train, y_train, 0.00001)\n",
    "toc = time.time()\n",
    "print('naive loss: {:05.3f} computed in {:05.3f}'.format(loss_naive, toc - tic))\n",
    "\n",
    "from cs231n.classifiers.softmax import softmax_loss_vectorized\n",
    "tic = time.time()\n",
    "loss_vectorized, grad_vectorized = softmax_loss_vectorized(W, X_train, y_train, 0.00001)\n",
    "toc = time.time()\n",
    "print('vectorized loss: {:05.3f} computed in {:05.3f}'.format(loss_vectorized, toc - tic))\n",
    "\n",
    "# As we did for the SVM, we use the Frobenius norm to compare the two versions\n",
    "# of the gradient.\n",
    "grad_difference = np.linalg.norm(grad_naive - grad_vectorized, ord='fro')\n",
    "print('Loss difference: {:05.3f}'.format(np.abs(loss_naive - loss_vectorized)))\n",
    "print('Gradient difference: {:07.3f}'.format(grad_difference))"
   ]
  },
  {
   "cell_type": "markdown",
   "metadata": {},
   "source": [
    "### Process Dataset into Validation subsets\n",
    "In order to tune the hyper parameters, I am going to split the dataset into a number of subsets. Each subset would be the validation data, and the remaining data would make up the training set to be used with the validation data. For example, if I made 10 subsets of data, I would have 10 validation sets of 1/10 of the training data, and a unique training set with the other 9/10 of the data, for each set of validation data."
   ]
  },
  {
   "cell_type": "code",
   "execution_count": 17,
   "metadata": {
    "collapsed": false
   },
   "outputs": [],
   "source": [
    "def create_dataset_folds(train_set, label_set, num_folds=5, ex_axis=1):\n",
    "    '''\n",
    "    data processing script, takes a 2D dataset and creates a 3D dataset \n",
    "    containing permutations of the 2D dataset, with each of the\n",
    "    'num_folds' permutation containing a unique validation set.\n",
    "    \n",
    "    input:\n",
    "        num_folds: number of permutations/validation sets to be made\n",
    "        train_set: bulk dataset, 2D, dimensions(D) x examples(N)\n",
    "        label_set: bulk dataset, 1D, (N) labels/classes/output values\n",
    "        ex_axis: handles datasets where examples are in rows(0) or columns(1)\n",
    "        \n",
    "    output:\n",
    "        train_sets: post processed dataset, permutations(n) x D x (N - n/N)\n",
    "        label_sets: post processed dataset, n x N\n",
    "        valid_sets: post processed validation dataset, n x D x N/n\n",
    "    '''\n",
    "    \n",
    "    print('\\nCreating Permutations of Training set for validation testing..\\n')\n",
    "    print('Current Dataset shape:')\n",
    "    print(\n",
    "          '\\ttraining sets:\\t\\t{} (Dimensions x Examples)'\n",
    "          '\\n\\ttraining lbls:\\t\\t{} (labels)'.format(\n",
    "                                train_set.shape,\n",
    "                                label_set.shape))\n",
    "    \n",
    "    # Make sure the dataset can be split evenly\n",
    "    if train_set.shape[ex_axis] % num_folds != 0:\n",
    "        raise ValueError('Data set not divisible by number of folds. '\n",
    "                         'Choose different fold size')\n",
    "    \n",
    "    print('\\nSplitting up training set into n folds...\\n')\n",
    "    # Split up the data -- num_folds x dimensions x subset of examples\n",
    "    train_folds = np.array(np.split(train_set, num_folds, axis=ex_axis))\n",
    "    label_folds = np.array(np.split(label_set, num_folds), dtype=np.int)\n",
    "    \n",
    "    # Output array shape parameters\n",
    "    sample_size = int(train_set.shape[ex_axis] * (1 - 1 / num_folds))\n",
    "    number_dims = train_set.shape[1 - ex_axis]\n",
    "    validations = train_set.shape[ex_axis] // num_folds\n",
    "    \n",
    "    print('\\nCreating empty 3D arrays....\\n')\n",
    "\n",
    "    # Assuming the dimensions are rows, create the output arrays\n",
    "    if ex_axis == 1:\n",
    "        train_sets = np.zeros(shape=(num_folds, number_dims, sample_size))\n",
    "        train_lbls = np.zeros(shape=(num_folds, sample_size), dtype=np.int)\n",
    "        valid_sets = np.zeros(shape=(num_folds, number_dims, validations))\n",
    "        valid_lbls = np.zeros(shape=(num_folds, validations), dtype=np.int)\n",
    "    # Assuming the dimensions are columns, create output arrays\n",
    "    else:\n",
    "        train_sets = np.zeros(shape=(num_folds, sample_size, number_dims))\n",
    "        train_lbls = np.zeros(shape=(num_folds, sample_size), dtype=np.int)\n",
    "        valid_sets = np.zeros(shape=(num_folds, validations, number_dims))\n",
    "        valid_lbls = np.zeros(shape=(num_folds, validations), dtype=np.int)\n",
    "    ##############\n",
    "    # MEMORY HOG:#\n",
    "    ##############        \n",
    "    print('\\nReshaping arrays into the 3D arrays...WARNING - MEMORY HOG\\n')\n",
    "    # Start massaging split data into the 3D output arrays\n",
    "    for fold in range(num_folds):\n",
    "        \n",
    "        # create the validation set\n",
    "        valid_sets[fold] = train_folds[fold]\n",
    "        valid_lbls[fold] = label_folds[fold]\n",
    "        \n",
    "        # remove validation set, add remainder to the 3D output array\n",
    "        if ex_axis == 1:               \n",
    "            train_sets[fold] = np.delete(train_folds, fold, axis=0).reshape(number_dims, -1)\n",
    "            train_lbls[fold] = np.delete(label_folds, fold, axis=0).reshape((-1,))\n",
    "        # handles datasets where examples are in rows, not columns\n",
    "        else:\n",
    "            train_sets[fold] = np.delete(train_folds, fold, axis=0).reshape(-1, number_dims)\n",
    "            train_lbls[fold] = np.delete(label_folds, fold, axis=0).reshape((-1,))\n",
    "            \n",
    "    print('\\nNew set shapes:')\n",
    "    print('\\tvalidation sets:\\t{}'\n",
    "          '\\n\\tvalidation lbls:\\t{}'\n",
    "          '\\n\\ttraining sets:\\t\\t{}'\n",
    "          '\\n\\ttraining lbls:\\t\\t{}'.format(\n",
    "                                valid_sets.shape,\n",
    "                                valid_lbls.shape,\n",
    "                                train_sets.shape,\n",
    "                                train_lbls.shape))\n",
    "    \n",
    "    return train_sets, train_lbls, valid_sets, valid_lbls\n",
    "            "
   ]
  },
  {
   "cell_type": "code",
   "execution_count": 18,
   "metadata": {
    "collapsed": false
   },
   "outputs": [
    {
     "name": "stdout",
     "output_type": "stream",
     "text": [
      "\n",
      "Creating Permutations of Training set for validation testing..\n",
      "\n",
      "Current Dataset shape:\n",
      "\ttraining sets:\t\t(3073, 48000) (Dimensions x Examples)\n",
      "\ttraining lbls:\t\t(48000,) (labels)\n",
      "\n",
      "Splitting up training set into n folds...\n",
      "\n",
      "\n",
      "Creating empty 3D arrays....\n",
      "\n",
      "\n",
      "Reshaping arrays into the 3D arrays...\n",
      "\n",
      "\n",
      "New set shapes:\n",
      "\tvalidation sets:\t(5, 3073, 9600)\n",
      "\tvalidation lbls:\t(5, 9600)\n",
      "\ttraining sets:\t\t(5, 3073, 38400)\n",
      "\ttraining lbls:\t\t(5, 38400)\n"
     ]
    }
   ],
   "source": [
    "# Process the dataset into folds\n",
    "X_train_folds, y_train_folds, X_valid_folds, y_valid_folds = create_dataset_folds(X_train, y_train, num_folds=5, ex_axis=1)"
   ]
  },
  {
   "cell_type": "code",
   "execution_count": 19,
   "metadata": {
    "collapsed": false
   },
   "outputs": [],
   "source": [
    "from mpl_toolkits.mplot3d import axes3d"
   ]
  },
  {
   "cell_type": "code",
   "execution_count": 20,
   "metadata": {
    "collapsed": false,
    "scrolled": false
   },
   "outputs": [
    {
     "name": "stdout",
     "output_type": "stream",
     "text": [
      "iteration 0 / 300: loss 0776.27\n"
     ]
    },
    {
     "name": "stderr",
     "output_type": "stream",
     "text": [
      "C:\\users\\joshu\\documents\\cs231n\\assignment1\\cs231n\\classifiers\\softmax.py:90: RuntimeWarning: divide by zero encountered in log\n",
      "  loss = np.mean(-np.log(prob_y)) + 0.5 * reg * np.sum(W**2)\n"
     ]
    },
    {
     "name": "stdout",
     "output_type": "stream",
     "text": [
      "iteration 100 / 300: loss 0000inf\n",
      "iteration 200 / 300: loss 0000inf\n"
     ]
    },
    {
     "name": "stderr",
     "output_type": "stream",
     "text": [
      "C:\\users\\joshu\\documents\\cs231n\\assignment1\\cs231n\\classifiers\\softmax.py:90: RuntimeWarning: overflow encountered in double_scalars\n",
      "  loss = np.mean(-np.log(prob_y)) + 0.5 * reg * np.sum(W**2)\n",
      "C:\\users\\joshu\\documents\\cs231n\\assignment1\\cs231n\\classifiers\\softmax.py:90: RuntimeWarning: overflow encountered in square\n",
      "  loss = np.mean(-np.log(prob_y)) + 0.5 * reg * np.sum(W**2)\n"
     ]
    },
    {
     "name": "stdout",
     "output_type": "stream",
     "text": [
      "iteration 0 / 300: loss 0775.92\n",
      "iteration 100 / 300: loss 0000inf\n",
      "iteration 200 / 300: loss 0000inf\n",
      "iteration 0 / 300: loss 0781.64\n",
      "iteration 100 / 300: loss 0000inf\n",
      "iteration 200 / 300: loss 0000inf\n"
     ]
    },
    {
     "ename": "KeyboardInterrupt",
     "evalue": "",
     "output_type": "error",
     "traceback": [
      "\u001b[0;31m---------------------------------------------------------------------------\u001b[0m",
      "\u001b[0;31mKeyboardInterrupt\u001b[0m                         Traceback (most recent call last)",
      "\u001b[0;32m<ipython-input-20-2f7904cb3561>\u001b[0m in \u001b[0;36m<module>\u001b[0;34m()\u001b[0m\n\u001b[1;32m     32\u001b[0m                                                  \u001b[0my_train_folds\u001b[0m\u001b[1;33m[\u001b[0m\u001b[0mi\u001b[0m\u001b[1;33m]\u001b[0m\u001b[1;33m,\u001b[0m\u001b[1;33m\u001b[0m\u001b[0m\n\u001b[1;32m     33\u001b[0m                                                  \u001b[0mlearning_rate\u001b[0m\u001b[1;33m=\u001b[0m\u001b[0mlr\u001b[0m\u001b[1;33m,\u001b[0m\u001b[1;33m\u001b[0m\u001b[0m\n\u001b[0;32m---> 34\u001b[0;31m                                                  reg=rg)\n\u001b[0m\u001b[1;32m     35\u001b[0m \u001b[1;33m\u001b[0m\u001b[0m\n\u001b[1;32m     36\u001b[0m             \u001b[1;31m# generate predicted labels with classifier\u001b[0m\u001b[1;33m\u001b[0m\u001b[1;33m\u001b[0m\u001b[0m\n",
      "\u001b[0;32mC:\\users\\joshu\\documents\\cs231n\\assignment1\\cs231n\\classifiers\\linear_classifier.py\u001b[0m in \u001b[0;36mtrain\u001b[0;34m(self, X, y, learning_rate, reg, num_iters, batch_size, verbose)\u001b[0m\n\u001b[1;32m     64\u001b[0m \u001b[1;33m\u001b[0m\u001b[0m\n\u001b[1;32m     65\u001b[0m             \u001b[1;31m# Create batch from dataset\u001b[0m\u001b[1;33m\u001b[0m\u001b[1;33m\u001b[0m\u001b[0m\n\u001b[0;32m---> 66\u001b[0;31m             \u001b[0mX_batch\u001b[0m \u001b[1;33m=\u001b[0m \u001b[0mX\u001b[0m\u001b[1;33m[\u001b[0m\u001b[1;33m:\u001b[0m\u001b[1;33m,\u001b[0m \u001b[0mindices\u001b[0m\u001b[1;33m]\u001b[0m\u001b[1;33m\u001b[0m\u001b[0m\n\u001b[0m\u001b[1;32m     67\u001b[0m             \u001b[0my_batch\u001b[0m \u001b[1;33m=\u001b[0m \u001b[0my\u001b[0m\u001b[1;33m[\u001b[0m\u001b[0mindices\u001b[0m\u001b[1;33m]\u001b[0m\u001b[1;33m\u001b[0m\u001b[0m\n\u001b[1;32m     68\u001b[0m \u001b[1;33m\u001b[0m\u001b[0m\n",
      "\u001b[0;31mKeyboardInterrupt\u001b[0m: "
     ]
    }
   ],
   "source": [
    "# Use the validation set to tune hyperparameters (regularization strength and\n",
    "# learning rate). You should experiment with different ranges for the learning\n",
    "# rates and regularization strengths; if you are careful you should be able to\n",
    "# get a classification accuracy of over 0.35 on the validation set.\n",
    "from cs231n.classifiers import Softmax\n",
    "\n",
    "np.set_printoptions(precision=2)\n",
    "results = {}\n",
    "best_val = -1\n",
    "best_softmax = None\n",
    "learning_rates = [.00001, .0005]\n",
    "regularization_strengths = [50000, 3000, 10000]\n",
    "\n",
    "print('\\nTesting these learning rates:\\n', ', '.join(map(str, learning_rates)))\n",
    "print('\\nWith each of these regularization values:\\n', ', '.join(map(str, regularization_strengths))\n",
    "      \n",
    "################################################################################\n",
    "# TODO:                                                                        #\n",
    "# Use the validation set to set the learning rate and regularization strength. #\n",
    "# This should be identical to the validation that you did for the SVM; save    #\n",
    "# the best trained softmax classifer in best_softmax.                          #\n",
    "################################################################################\n",
    "# \n",
    "num_folds = range(5)\n",
    "# Plotting axes\n",
    "r, l, a = [], [], []\n",
    "\n",
    "for lr in learning_rates:\n",
    "    for rg in regularization_strengths:\n",
    "        for i in num_folds:\n",
    "            \n",
    "            # train the training subset\n",
    "            softMax_Classifier = Softmax()\n",
    "            softMax_Classifier.train(X_train_folds[i], \n",
    "                                                 y_train_folds[i], \n",
    "                                                 learning_rate=lr, \n",
    "                                                 reg=rg)\n",
    "\n",
    "            # generate predicted labels with classifier\n",
    "            train_predictions = softMax_Classifier.predict(X_train_folds[i])\n",
    "            valid_predictions = softMax_Classifier.predict(X_valid_folds[i])\n",
    "            \n",
    "            # compare to actual labels\n",
    "            tr_accuracy = np.mean(y_train_folds[i] == train_predictions)\n",
    "            vd_accuracy = np.mean(y_valid_folds[i] == valid_predictions)\n",
    "            \n",
    "            # hold on to highest accuracy and softmax classifier\n",
    "            if vd_accuracy > best_val: \n",
    "                best_val = vd_accuracy\n",
    "                \n",
    "                best_tr_accuracy = tr_accuracy\n",
    "                best_vd_accuracy = vd_accuracy\n",
    "                best_softmax = softMax_Classifier\n",
    "                \n",
    "            # Add to plot matrix\n",
    "            r.append(rg)\n",
    "            l.append(lr)\n",
    "            a.append(vd_accuracy)\n",
    "            \n",
    "        # Store in results dictionary\n",
    "        results[(rg, lr)] = (best_tr_accuracy, best_vd_accuracy)\n",
    "    "
   ]
  },
  {
   "cell_type": "code",
   "execution_count": 21,
   "metadata": {
    "collapsed": false
   },
   "outputs": [
    {
     "data": {
      "image/png": "[encoded data removed]",
      "text/plain": [
       "<matplotlib.figure.Figure at 0x2660018eeb8>"
      ]
     },
     "metadata": {},
     "output_type": "display_data"
    }
   ],
   "source": [
    "fig = plt.figure()\n",
    "ax = fig.add_subplot(111, projection='3d')\n",
    "\n",
    "ax.scatter(r, l, a, c='r', marker='o')\n",
    "ax.set_xlabel('Regularization')\n",
    "ax.set_ylabel('Learning Rate')\n",
    "ax.set_zlabel('Accuracy')\n",
    "\n",
    "plt.show()"
   ]
  },
  {
   "cell_type": "code",
   "execution_count": 55,
   "metadata": {
    "collapsed": false
   },
   "outputs": [
    {
     "name": "stdout",
     "output_type": "stream",
     "text": [
      "lr 50000.0\treg 5e-08 train accuracy: 0.10229166666666667 val accuracy: 00.14\n",
      "lr 50000.0\treg 1e-07 train accuracy: 0.10049479166666667 val accuracy: 00.10\n",
      "lr 50000.0\treg 5e-07 train accuracy: 0.111640625 val accuracy: 00.14\n",
      "lr 100000000.0\treg 5e-08 train accuracy: 0.10229166666666667 val accuracy: 00.14\n",
      "lr 100000000.0\treg 1e-07 train accuracy: 0.10221354166666667 val accuracy: 00.11\n",
      "lr 100000000.0\treg 5e-07 train accuracy: 0.10229166666666667 val accuracy: 00.14\n",
      "best validation accuracy achieved during cross-validation: 00.14\n"
     ]
    }
   ],
   "source": [
    "\n",
    "################################################################################\n",
    "#                              END OF YOUR CODE                                #\n",
    "################################################################################\n",
    "    \n",
    "# Print out results.\n",
    "for lr, reg in sorted(results):\n",
    "    train_accuracy, val_accuracy = results[(lr, reg)]\n",
    "    \n",
    "    print('lr {}\\treg {} train accuracy: {{:05.3f} val accuracy: {:05.2f}%'\n",
    "          .format(lr, reg, train_accuracy, val_accuracy * 100))\n",
    "    \n",
    "print('best validation accuracy achieved during cross-validation: {:05.2f}%'.format(best_val*100))"
   ]
  },
  {
   "cell_type": "code",
   "execution_count": 12,
   "metadata": {
    "collapsed": false
   },
   "outputs": [
    {
     "ename": "AttributeError",
     "evalue": "'NoneType' object has no attribute 'predict'",
     "output_type": "error",
     "traceback": [
      "\u001b[0;31m---------------------------------------------------------------------------\u001b[0m",
      "\u001b[0;31mAttributeError\u001b[0m                            Traceback (most recent call last)",
      "\u001b[0;32m<ipython-input-12-43f625dc0e46>\u001b[0m in \u001b[0;36m<module>\u001b[0;34m()\u001b[0m\n\u001b[1;32m      1\u001b[0m \u001b[1;31m# evaluate on test set\u001b[0m\u001b[1;33m\u001b[0m\u001b[1;33m\u001b[0m\u001b[0m\n\u001b[1;32m      2\u001b[0m \u001b[1;31m# Evaluate the best svm on test set\u001b[0m\u001b[1;33m\u001b[0m\u001b[1;33m\u001b[0m\u001b[0m\n\u001b[0;32m----> 3\u001b[0;31m \u001b[0my_test_pred\u001b[0m \u001b[1;33m=\u001b[0m \u001b[0mbest_softmax\u001b[0m\u001b[1;33m.\u001b[0m\u001b[0mpredict\u001b[0m\u001b[1;33m(\u001b[0m\u001b[0mX_test\u001b[0m\u001b[1;33m)\u001b[0m\u001b[1;33m\u001b[0m\u001b[0m\n\u001b[0m\u001b[1;32m      4\u001b[0m \u001b[0mtest_accuracy\u001b[0m \u001b[1;33m=\u001b[0m \u001b[0mnp\u001b[0m\u001b[1;33m.\u001b[0m\u001b[0mmean\u001b[0m\u001b[1;33m(\u001b[0m\u001b[0my_test\u001b[0m \u001b[1;33m==\u001b[0m \u001b[0my_test_pred\u001b[0m\u001b[1;33m)\u001b[0m\u001b[1;33m\u001b[0m\u001b[0m\n\u001b[1;32m      5\u001b[0m \u001b[0mprint\u001b[0m \u001b[1;33m(\u001b[0m\u001b[1;34m'softmax on raw pixels final test set accuracy: {}'\u001b[0m\u001b[1;33m.\u001b[0m\u001b[0mformat\u001b[0m\u001b[1;33m(\u001b[0m\u001b[0mtest_accuracy\u001b[0m\u001b[1;33m,\u001b[0m \u001b[1;33m)\u001b[0m\u001b[1;33m)\u001b[0m\u001b[1;33m\u001b[0m\u001b[0m\n",
      "\u001b[0;31mAttributeError\u001b[0m: 'NoneType' object has no attribute 'predict'"
     ]
    }
   ],
   "source": [
    "# evaluate on test set\n",
    "# Evaluate the best svm on test set\n",
    "y_test_pred = best_softmax.predict(X_test)\n",
    "test_accuracy = np.mean(y_test == y_test_pred)\n",
    "print ('softmax on raw pixels final test set accuracy: {}'.format(test_accuracy, ))"
   ]
  },
  {
   "cell_type": "code",
   "execution_count": null,
   "metadata": {
    "collapsed": false
   },
   "outputs": [],
   "source": [
    "# Visualize the learned weights for each class\n",
    "w = best_softmax.W[:,:-1] # strip out the bias\n",
    "w = w.reshape(10, 32, 32, 3)\n",
    "\n",
    "w_min, w_max = np.min(w), np.max(w)\n",
    "\n",
    "classes = ['plane', 'car', 'bird', 'cat', 'deer', 'dog', 'frog', 'horse', 'ship', 'truck']\n",
    "for i in xrange(10):\n",
    "  plt.subplot(2, 5, i + 1)\n",
    "  \n",
    "  # Rescale the weights to be between 0 and 255\n",
    "  wimg = 255.0 * (w[i].squeeze() - w_min) / (w_max - w_min)\n",
    "  plt.imshow(wimg.astype('uint8'))\n",
    "  plt.axis('off')\n",
    "  plt.title(classes[i])"
   ]
  }
 ],
 "metadata": {
  "anaconda-cloud": {},
  "kernelspec": {
   "display_name": "Python [default]",
   "language": "python",
   "name": "python3"
  },
  "language_info": {
   "codemirror_mode": {
    "name": "ipython",
    "version": 3
   },
   "file_extension": ".py",
   "mimetype": "text/x-python",
   "name": "python",
   "nbconvert_exporter": "python",
   "pygments_lexer": "ipython3",
   "version": "3.5.2"
  }
 },
 "nbformat": 4,
 "nbformat_minor": 0
}
