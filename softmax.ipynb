{
 "cells": [
  {
   "cell_type": "markdown",
   "metadata": {},
   "source": [
    "# Softmax exercise\n",
    "\n",
    "*Complete and hand in this completed worksheet (including its outputs and any supporting code outside of the worksheet) with your assignment submission. For more details see the [assignments page](http://vision.stanford.edu/teaching/cs231n/assignments.html) on the course website.*\n",
    "\n",
    "This exercise is analogous to the SVM exercise. You will:\n",
    "\n",
    "- implement a fully-vectorized **loss function** for the Softmax classifier\n",
    "- implement the fully-vectorized expression for its **analytic gradient**\n",
    "- **check your implementation** with numerical gradient\n",
    "- use a validation set to **tune the learning rate and regularization** strength\n",
    "- **optimize** the loss function with **SGD**\n",
    "- **visualize** the final learned weights\n"
   ]
  },
  {
   "cell_type": "code",
   "execution_count": 1,
   "metadata": {
    "collapsed": false
   },
   "outputs": [],
   "source": [
    "import random\n",
    "import numpy as np\n",
    "from cs231n.data_utils import load_CIFAR10\n",
    "import matplotlib.pyplot as plt\n",
    "%matplotlib inline\n",
    "plt.rcParams['figure.figsize'] = (10.0, 8.0) # set default size of plots\n",
    "plt.rcParams['image.interpolation'] = 'nearest'\n",
    "plt.rcParams['image.cmap'] = 'gray'\n",
    "\n",
    "# for auto-reloading extenrnal modules\n",
    "# see http://stackoverflow.com/questions/1907993/autoreload-of-modules-in-ipython\n",
    "%load_ext autoreload\n",
    "%autoreload 2"
   ]
  },
  {
   "cell_type": "code",
   "execution_count": 2,
   "metadata": {
    "collapsed": false
   },
   "outputs": [
    {
     "name": "stdout",
     "output_type": "stream",
     "text": [
      "\n",
      "\n",
      "Shape of raw data from dataset:\n",
      "Training set\n",
      "(1000, 32, 32, 3)\n",
      "\n",
      "Label set:\n",
      "(1000,)\n",
      "\n",
      "Reshaped data to M x N (examples x features):\n",
      "Train data shape:  (48000, 3072)\n",
      "Train labels shape:  (48000,)\n",
      "Validation data shape:  (1000, 3072)\n",
      "Validation labels shape:  (1000,)\n",
      "Test data shape:  (1000, 3072)\n",
      "Test labels shape:  (1000,)\n",
      "\n",
      "\n",
      "Shape after adding bias dimension and transforming into columns:\n",
      "Train data shape:  (3073, 48000)\n",
      "Train labels shape:  (48000,)\n",
      "Validation data shape:  (3073, 1000)\n",
      "Validation labels shape:  (1000,)\n",
      "Test data shape:  (3073, 1000)\n",
      "Test labels shape:  (1000,)\n"
     ]
    }
   ],
   "source": [
    "def get_CIFAR10_data(num_training=49000, num_validation=1000, num_test=1000):\n",
    "    \"\"\"\n",
    "    Load the CIFAR-10 dataset from disk and perform preprocessing to prepare\n",
    "    it for the linear classifier. These are the same steps as we used for the\n",
    "    SVM, but condensed to a single function.\n",
    "    \"\"\"\n",
    "    # Load the raw CIFAR-10 data\n",
    "    cifar10_dir = 'cs231n/datasets/cifar-10-batches-py'\n",
    "    X_train, y_train, X_test, y_test = load_CIFAR10(cifar10_dir)\n",
    "\n",
    "    # subsample the data \n",
    "    mask = range(num_training, num_training + num_validation)\n",
    "    X_val = X_train[mask]\n",
    "    y_val = y_train[mask]\n",
    "    \n",
    "    mask = range(num_test, num_training)\n",
    "    X_train = X_train[mask]\n",
    "    y_train = y_train[mask]\n",
    "    \n",
    "    mask = range(num_test)\n",
    "    X_test = X_test[mask]\n",
    "    y_test = y_test[mask]\n",
    "    \n",
    "    # Shape of the data that comes in\n",
    "    print('\\n\\nShape of raw data from dataset:')\n",
    "    print('Training set\\n{}\\n\\nLabel set:\\n{}\\n'\n",
    "          .format(X_test.shape, y_test.shape))\n",
    "    \n",
    "    # Preprocessing: reshape the image data into rows\n",
    "    X_train = np.reshape(X_train, (X_train.shape[0], -1))\n",
    "    X_val = np.reshape(X_val, (X_val.shape[0], -1))\n",
    "    X_test = np.reshape(X_test, (X_test.shape[0], -1))\n",
    "\n",
    "    # Normalize the data: subtract the mean image\n",
    "    mean_image = np.mean(X_train, axis=0)\n",
    "    X_train -= mean_image\n",
    "    X_val -= mean_image\n",
    "    X_test -= mean_image\n",
    "\n",
    "    # current shape\n",
    "    print('Reshaped data to M x N (examples x features):')\n",
    "    print('Train data shape: ', X_train.shape)\n",
    "    print('Train labels shape: ', y_train.shape)\n",
    "    print('Validation data shape: ', X_val.shape)\n",
    "    print('Validation labels shape: ', y_val.shape)\n",
    "    print('Test data shape: ', X_test.shape)\n",
    "    print('Test labels shape: ', y_test.shape)\n",
    "\n",
    "    # add bias dimension and transform into columns\n",
    "    X_train = np.hstack([X_train, np.ones((X_train.shape[0], 1))]).T\n",
    "    X_val = np.hstack([X_val, np.ones((X_val.shape[0], 1))]).T\n",
    "    X_test = np.hstack([X_test, np.ones((X_test.shape[0], 1))]).T\n",
    "\n",
    "    return X_train, y_train, X_val, y_val, X_test, y_test\n",
    "\n",
    "\n",
    "# Invoke the above function to get our data.\n",
    "X_train, y_train, X_val, y_val, X_test, y_test = get_CIFAR10_data()\n",
    "\n",
    "print('\\n\\nShape after adding bias dimension and transforming into columns:')\n",
    "print('Train data shape: ', X_train.shape)\n",
    "print('Train labels shape: ', y_train.shape)\n",
    "print('Validation data shape: ', X_val.shape)\n",
    "print('Validation labels shape: ', y_val.shape)\n",
    "print('Test data shape: ', X_test.shape)\n",
    "print('Test labels shape: ', y_test.shape)\n"
   ]
  },
  {
   "cell_type": "markdown",
   "metadata": {},
   "source": [
    "## Softmax Classifier\n",
    "\n",
    "Your code for this section will all be written inside **cs231n/classifiers/softmax.py**. \n"
   ]
  },
  {
   "cell_type": "code",
   "execution_count": 4,
   "metadata": {
    "collapsed": false
   },
   "outputs": [
    {
     "name": "stdout",
     "output_type": "stream",
     "text": [
      "Weight Matrix shape: (10, 3073)\n",
      "\n",
      "loss: 2.374424601469388\n",
      "sanity check: 2.3025850929940455\n"
     ]
    }
   ],
   "source": [
    "# First implement the naive softmax loss function with nested loops.\n",
    "# Open the file cs231n/classifiers/softmax.py and implement the\n",
    "# softmax_loss_naive function.\n",
    "\n",
    "from cs231n.classifiers.softmax import softmax_loss_naive\n",
    "import time\n",
    "\n",
    "# Generate a random softmax weight matrix and use it to compute the loss.\n",
    "W = np.random.randn(10, 3073) * 0.0001\n",
    "print('Weight Matrix shape: {}\\n'.format(W.shape))\n",
    "loss, grad = softmax_loss_naive(W, X_train, y_train, 0.0)\n",
    "\n",
    "# As a rough sanity check, our loss should be something close to -log(0.1).\n",
    "print('loss: {}'.format(loss))\n",
    "print('sanity check: {}'.format(-np.log(0.1)))"
   ]
  },
  {
   "cell_type": "markdown",
   "metadata": {},
   "source": [
    "## Inline Question 1:\n",
    "Why do we expect our loss to be close to -log(0.1)? Explain briefly.**\n",
    "\n",
    "**Your answer:** *Fill this in*\n"
   ]
  },
  {
   "cell_type": "code",
   "execution_count": 4,
   "metadata": {
    "collapsed": false
   },
   "outputs": [
    {
     "name": "stdout",
     "output_type": "stream",
     "text": [
      "numerical: -0.019166698428385587 analytic: -0.014545831731222352, relative error: 0.13706674270030442\n",
      "numerical: -3.2899021418675285 analytic: -3.835120761498654, relative error: 0.07652166554770509\n",
      "numerical: -0.921849289925447 analytic: -0.6323791803634247, relative error: 0.18624681962505868\n",
      "numerical: 0.368799114558449 analytic: 0.1476340328062346, relative error: 0.4282550081860582\n",
      "numerical: -1.2150419530509993 analytic: -1.0422808776698673, relative error: 0.07653361452334287\n",
      "numerical: -0.920908368717832 analytic: -0.6445193287989854, relative error: 0.17655816385341383\n",
      "numerical: 0.7587133501019138 analytic: -0.054521306887924226, relative error: 1.0\n",
      "numerical: 2.1181559898053592 analytic: 1.602808607317001, relative error: 0.1384983299456562\n",
      "numerical: -1.699020146417318 analytic: -1.1917029673402793, relative error: 0.17549836463499494\n",
      "numerical: -0.41247556936685464 analytic: -0.11448713703041859, relative error: 0.5654829624921973\n"
     ]
    }
   ],
   "source": [
    "# Complete the implementation of softmax_loss_naive and implement a (naive)\n",
    "# version of the gradient that uses nested loops.\n",
    "loss, grad = softmax_loss_naive(W, X_train, y_train, 0.0)\n",
    "\n",
    "# As we did for the SVM, use numeric gradient checking as a debugging tool.\n",
    "# The numeric gradient should be close to the analytic gradient.\n",
    "from cs231n.gradient_check import grad_check_sparse\n",
    "f = lambda w: softmax_loss_naive(w, X_train, y_train, 0.0)[0]\n",
    "grad_numerical = grad_check_sparse(f, W, grad, 10)"
   ]
  },
  {
   "cell_type": "code",
   "execution_count": 5,
   "metadata": {
    "collapsed": false
   },
   "outputs": [
    {
     "name": "stdout",
     "output_type": "stream",
     "text": [
      "naive loss: 2.3130958747428467 computed in 7.24904465675354\n",
      "vectorized loss: 2.313095874742853 computed in 0.49280834197998047\n",
      "Loss difference: 6.217248937900877e-15\n",
      "Gradient difference: 151.03533510280894\n"
     ]
    }
   ],
   "source": [
    "# Now that we have a naive implementation of the softmax loss function and its gradient,\n",
    "# implement a vectorized version in softmax_loss_vectorized.\n",
    "# The two versions should compute the same results, but the vectorized version should be\n",
    "# much faster.\n",
    "tic = time.time()\n",
    "loss_naive, grad_naive = softmax_loss_naive(W, X_train, y_train, 0.00001)\n",
    "toc = time.time()\n",
    "print('naive loss: {} computed in {}'.format(loss_naive, toc - tic))\n",
    "\n",
    "from cs231n.classifiers.softmax import softmax_loss_vectorized\n",
    "tic = time.time()\n",
    "loss_vectorized, grad_vectorized = softmax_loss_vectorized(W, X_train, y_train, 0.00001)\n",
    "toc = time.time()\n",
    "print('vectorized loss: {} computed in {}'.format(loss_vectorized, toc - tic))\n",
    "\n",
    "# As we did for the SVM, we use the Frobenius norm to compare the two versions\n",
    "# of the gradient.\n",
    "grad_difference = np.linalg.norm(grad_naive - grad_vectorized, ord='fro')\n",
    "print('Loss difference: {}'.format(np.abs(loss_naive - loss_vectorized)))\n",
    "print('Gradient difference: {}'.format(grad_difference))"
   ]
  },
  {
   "cell_type": "code",
   "execution_count": 41,
   "metadata": {
    "collapsed": false
   },
   "outputs": [
    {
     "name": "stdout",
     "output_type": "stream",
     "text": [
      "Training set before fold:\t (3073, 48000)\n",
      "Training set after fold:\t (5, 3073, 9600)\n",
      "train set shape:  (4, 3073, 9600)\n",
      "best validation accuracy achieved during cross-validation: -1\n"
     ]
    }
   ],
   "source": [
    "# Use the validation set to tune hyperparameters (regularization strength and\n",
    "# learning rate). You should experiment with different ranges for the learning\n",
    "# rates and regularization strengths; if you are careful you should be able to\n",
    "# get a classification accuracy of over 0.35 on the validation set.\n",
    "from cs231n.classifiers import Softmax\n",
    "results = {}\n",
    "best_val = -1\n",
    "best_softmax = None\n",
    "learning_rates = [1e-7, 5e-7]\n",
    "regularization_strengths = [5e4, 1e8]\n"
   ]
  },
  {
   "cell_type": "markdown",
   "metadata": {},
   "source": [
    "### Process Dataset into Validation subsets\n",
    "In order to tune the hyper parameters, I am going to split the dataset into a number of subsets. Each subset would be the validation data, and the remaining data would make up the training set to be used with the validation data. For example, if I made 10 subsets of data, I would have 10 validation sets of 1/10 of the training data, and a unique training set with the other 9/10 of the data, for each set of validation data."
   ]
  },
  {
   "cell_type": "code",
   "execution_count": 8,
   "metadata": {
    "collapsed": false
   },
   "outputs": [
    {
     "name": "stdout",
     "output_type": "stream",
     "text": [
      "\n",
      "Creating Permutations of Training set for validation testing..\n",
      "\n",
      "Current Dataset shape:\n",
      "\ttraining sets:\t\t(10000, 40) (Dimensions x Examples)\n",
      "\ttraining lbls:\t\t(10000,) (labels)\n",
      "\n",
      "New set shapes:\n",
      "\tvalidation sets:\t(5, 2000, 40)\n",
      "\tvalidation lbls:\t(5, 2000)\n",
      "\ttraining sets:\t\t(5, 8000, 40)\n",
      "\ttraining lbls:\t\t(5, 8000)\n",
      "\n",
      "Creating Permutations of Training set for validation testing..\n",
      "\n",
      "Current Dataset shape:\n",
      "\ttraining sets:\t\t(40, 10000) (Dimensions x Examples)\n",
      "\ttraining lbls:\t\t(10000,) (labels)\n",
      "\n",
      "New set shapes:\n",
      "\tvalidation sets:\t(5, 40, 2000)\n",
      "\tvalidation lbls:\t(5, 2000)\n",
      "\ttraining sets:\t\t(5, 40, 8000)\n",
      "\ttraining lbls:\t\t(5, 8000)\n"
     ]
    }
   ],
   "source": [
    "def create_dataset_folds(train_set, label_set, num_folds=5, ex_axis=1):\n",
    "    '''\n",
    "    data processing script, takes a 2D dataset and creates a 3D dataset \n",
    "    containing permutations of the 2D dataset, with each of the\n",
    "    'num_folds' permutation containing a unique validation set.\n",
    "    \n",
    "    input:\n",
    "        num_folds: number of permutations/validation sets to be made\n",
    "        train_set: bulk dataset, 2D, dimensions(D) x examples(N)\n",
    "        label_set: bulk dataset, 1D, (N) labels/classes/output values\n",
    "        ex_axis: handles datasets where examples are in rows(0) or columns(1)\n",
    "        \n",
    "    output:\n",
    "        train_sets: post processed dataset, permutations(n) x D x (N - n/N)\n",
    "        label_sets: post processed dataset, n x N\n",
    "        valid_sets: post processed validation dataset, n x D x N/n\n",
    "    '''\n",
    "    \n",
    "    print('\\nCreating Permutations of Training set for validation testing..\\n')\n",
    "    print('Current Dataset shape:')\n",
    "    print(\n",
    "          '\\ttraining sets:\\t\\t{} (Dimensions x Examples)'\n",
    "          '\\n\\ttraining lbls:\\t\\t{} (labels)'.format(\n",
    "                                train_set.shape,\n",
    "                                label_set.shape))\n",
    "    \n",
    "    # Make sure the dataset can be split evenly\n",
    "    if train_set.shape[ex_axis] % num_folds != 0:\n",
    "        raise ValueError('Data set not divisible by number of folds. '\n",
    "                         'Choose different fold size')\n",
    "    \n",
    "    # Split up the data -- num_folds x dimensions x subset of examples\n",
    "    train_folds = np.array(np.split(train_set, num_folds, axis=ex_axis))\n",
    "    label_folds = np.array(np.split(label_set, num_folds))\n",
    "    \n",
    "    # Output array shape parameters\n",
    "    sample_size = int(train_set.shape[ex_axis] * (1 - 1 / num_folds))\n",
    "    number_dims = train_set.shape[1 - ex_axis]\n",
    "    validations = train_set.shape[ex_axis] // num_folds\n",
    "    \n",
    "    ##############\n",
    "    # MEMORY HOG:#\n",
    "    ##############\n",
    "    # Assuming the dimensions are rows, create the output arrays\n",
    "    if ex_axis == 1:\n",
    "        train_sets = np.zeros(shape=(num_folds, number_dims, sample_size))\n",
    "        train_lbls = np.zeros(shape=(num_folds, sample_size))\n",
    "        valid_sets = np.zeros(shape=(num_folds, number_dims, validations))\n",
    "        valid_lbls = np.zeros(shape=(num_folds, validations))\n",
    "    # Assuming the dimensions are columns, create output arrays\n",
    "    else:\n",
    "        train_sets = np.zeros(shape=(num_folds, sample_size, number_dims))\n",
    "        train_lbls = np.zeros(shape=(num_folds, sample_size))\n",
    "        valid_sets = np.zeros(shape=(num_folds, validations, number_dims))\n",
    "        valid_lbls = np.zeros(shape=(num_folds, validations))\n",
    "        \n",
    "    \n",
    "    # Start massaging split data into the 3D output arrays\n",
    "    for fold in range(num_folds):\n",
    "        \n",
    "        # create the validation set\n",
    "        valid_sets[fold] = train_folds[fold]\n",
    "        valid_lbls[fold] = label_folds[fold]\n",
    "        \n",
    "        # remove validation set, add remainder to the 3D output array\n",
    "        if ex_axis == 1:               \n",
    "            train_sets[fold] = np.delete(train_folds, fold, axis=0).reshape(number_dims, -1)\n",
    "            train_lbls[fold] = np.delete(label_folds, fold, axis=0).reshape((-1,))\n",
    "        # handles datasets where examples are in rows, not columns\n",
    "        else:\n",
    "            train_sets[fold] = np.delete(train_folds, fold, axis=0).reshape(-1, number_dims)\n",
    "            train_lbls[fold] = np.delete(label_folds, fold, axis=0).reshape((-1,))\n",
    "            \n",
    "    print('\\nNew set shapes:')\n",
    "    print('\\tvalidation sets:\\t{}'\n",
    "          '\\n\\tvalidation lbls:\\t{}'\n",
    "          '\\n\\ttraining sets:\\t\\t{}'\n",
    "          '\\n\\ttraining lbls:\\t\\t{}'.format(\n",
    "                                valid_sets.shape,\n",
    "                                valid_lbls.shape,\n",
    "                                train_sets.shape,\n",
    "                                train_lbls.shape))\n",
    "    \n",
    "    return valid_sets, valid_lbls, train_sets, train_lbls\n",
    "        \n",
    "\n",
    "# Code to test the script\n",
    "training = np.arange(400000).reshape(10000, 40)  # N x D\n",
    "labeling = np.random.randint(0, 10, size=(10000,))  # N\n",
    "\n",
    "Vx, Vy, Tx, Ty = create_dataset_folds(training, labeling, ex_axis=0)\n",
    "\n",
    "training = np.arange(400000).reshape(40, 10000)  # N x D\n",
    "labeling = np.random.randint(0, 10, size=(10000,))  # N\n",
    "\n",
    "Vx, Vy, Tx, Ty = create_dataset_folds(training, labeling, ex_axis=1)\n",
    "        \n",
    "    \n",
    "    "
   ]
  },
  {
   "cell_type": "code",
   "execution_count": 7,
   "metadata": {
    "collapsed": false
   },
   "outputs": [
    {
     "name": "stdout",
     "output_type": "stream",
     "text": [
      "\n",
      "Creating Permutations of Training set for validation testing..\n",
      "\n",
      "Current Dataset shape:\n",
      "\ttraining sets:\t\t(3073, 48000) (Dimensions x Examples)\n",
      "\ttraining lbls:\t\t(48000,) (labels)\n",
      "\n",
      "New set shapes:\n",
      "\tvalidation sets:\t(5, 3073, 9600)\n",
      "\tvalidation lbls:\t(5, 9600)\n",
      "\ttraining sets:\t\t(5, 3073, 38400)\n",
      "\ttraining lbls:\t\t(5, 38400)\n",
      "Training set after fold:\t (5, 3073, 9600)\n"
     ]
    },
    {
     "ename": "NameError",
     "evalue": "name 'results' is not defined",
     "output_type": "error",
     "traceback": [
      "\u001b[0;31m---------------------------------------------------------------------------\u001b[0m",
      "\u001b[0;31mNameError\u001b[0m                                 Traceback (most recent call last)",
      "\u001b[0;32m<ipython-input-7-a97ce38bbd1c>\u001b[0m in \u001b[0;36m<module>\u001b[0;34m()\u001b[0m\n\u001b[1;32m     36\u001b[0m \u001b[1;33m\u001b[0m\u001b[0m\n\u001b[1;32m     37\u001b[0m \u001b[1;31m# Print out results.\u001b[0m\u001b[1;33m\u001b[0m\u001b[1;33m\u001b[0m\u001b[0m\n\u001b[0;32m---> 38\u001b[0;31m \u001b[1;32mfor\u001b[0m \u001b[0mlr\u001b[0m\u001b[1;33m,\u001b[0m \u001b[0mreg\u001b[0m \u001b[1;32min\u001b[0m \u001b[0msorted\u001b[0m\u001b[1;33m(\u001b[0m\u001b[0mresults\u001b[0m\u001b[1;33m)\u001b[0m\u001b[1;33m:\u001b[0m\u001b[1;33m\u001b[0m\u001b[0m\n\u001b[0m\u001b[1;32m     39\u001b[0m     \u001b[0mtrain_accuracy\u001b[0m\u001b[1;33m,\u001b[0m \u001b[0mval_accuracy\u001b[0m \u001b[1;33m=\u001b[0m \u001b[0mresults\u001b[0m\u001b[1;33m[\u001b[0m\u001b[1;33m(\u001b[0m\u001b[0mlr\u001b[0m\u001b[1;33m,\u001b[0m \u001b[0mreg\u001b[0m\u001b[1;33m)\u001b[0m\u001b[1;33m]\u001b[0m\u001b[1;33m\u001b[0m\u001b[0m\n\u001b[1;32m     40\u001b[0m     print('lr {} reg {} train accuracy: {} val accuracy: {}'\n",
      "\u001b[0;31mNameError\u001b[0m: name 'results' is not defined"
     ]
    }
   ],
   "source": [
    "\n",
    "################################################################################\n",
    "# TODO:                                                                        #\n",
    "# Use the validation set to set the learning rate and regularization strength. #\n",
    "# This should be identical to the validation that you did for the SVM; save    #\n",
    "# the best trained softmax classifer in best_softmax.                          #\n",
    "################################################################################\n",
    "folds = 5\n",
    "\n",
    "X_train_folds, y_train_folds, X_valid_folds, y_valid_folds = create_dataset_folds(X_train, y_train, num_folds=5, ex_axis=1)\n",
    "\n",
    "\n",
    "# Folds 2D array into a 3D array with i layers\n",
    "# X_train_folds = np.array(np.array_split(X_train, folds, axis=1))\n",
    "# y_train_folds = np.array(np.array_split(y_train, folds))\n",
    "\n",
    "print('Training set after fold:\\t', X_train_folds.shape)\n",
    "\n",
    "'''\n",
    "    for lr in learning_rates:\n",
    "        pass\n",
    "        # train the training subset\n",
    "        SoftMax_Classifier = LinearClassifier()\n",
    "        SoftMax_Classifier.train(train_set, train_lbl, learning_rate=lr)\n",
    "\n",
    "        # test the trained model on the validation set\n",
    "        predictions = SoftMax_Classifier.predict(X_test)\n",
    "\n",
    "'''   \n",
    "pass\n",
    "                \n",
    "\n",
    "################################################################################\n",
    "#                              END OF YOUR CODE                                #\n",
    "################################################################################\n",
    "    \n",
    "# Print out results.\n",
    "for lr, reg in sorted(results):\n",
    "    train_accuracy, val_accuracy = results[(lr, reg)]\n",
    "    print('lr {} reg {} train accuracy: {} val accuracy: {}'\n",
    "          .format(lr, reg, train_accuracy, val_accuracy))\n",
    "    \n",
    "print('best validation accuracy achieved during cross-validation: {}'.format(best_val))"
   ]
  },
  {
   "cell_type": "code",
   "execution_count": 12,
   "metadata": {
    "collapsed": false
   },
   "outputs": [
    {
     "ename": "AttributeError",
     "evalue": "'NoneType' object has no attribute 'predict'",
     "output_type": "error",
     "traceback": [
      "\u001b[0;31m---------------------------------------------------------------------------\u001b[0m",
      "\u001b[0;31mAttributeError\u001b[0m                            Traceback (most recent call last)",
      "\u001b[0;32m<ipython-input-12-43f625dc0e46>\u001b[0m in \u001b[0;36m<module>\u001b[0;34m()\u001b[0m\n\u001b[1;32m      1\u001b[0m \u001b[1;31m# evaluate on test set\u001b[0m\u001b[1;33m\u001b[0m\u001b[1;33m\u001b[0m\u001b[0m\n\u001b[1;32m      2\u001b[0m \u001b[1;31m# Evaluate the best svm on test set\u001b[0m\u001b[1;33m\u001b[0m\u001b[1;33m\u001b[0m\u001b[0m\n\u001b[0;32m----> 3\u001b[0;31m \u001b[0my_test_pred\u001b[0m \u001b[1;33m=\u001b[0m \u001b[0mbest_softmax\u001b[0m\u001b[1;33m.\u001b[0m\u001b[0mpredict\u001b[0m\u001b[1;33m(\u001b[0m\u001b[0mX_test\u001b[0m\u001b[1;33m)\u001b[0m\u001b[1;33m\u001b[0m\u001b[0m\n\u001b[0m\u001b[1;32m      4\u001b[0m \u001b[0mtest_accuracy\u001b[0m \u001b[1;33m=\u001b[0m \u001b[0mnp\u001b[0m\u001b[1;33m.\u001b[0m\u001b[0mmean\u001b[0m\u001b[1;33m(\u001b[0m\u001b[0my_test\u001b[0m \u001b[1;33m==\u001b[0m \u001b[0my_test_pred\u001b[0m\u001b[1;33m)\u001b[0m\u001b[1;33m\u001b[0m\u001b[0m\n\u001b[1;32m      5\u001b[0m \u001b[0mprint\u001b[0m \u001b[1;33m(\u001b[0m\u001b[1;34m'softmax on raw pixels final test set accuracy: {}'\u001b[0m\u001b[1;33m.\u001b[0m\u001b[0mformat\u001b[0m\u001b[1;33m(\u001b[0m\u001b[0mtest_accuracy\u001b[0m\u001b[1;33m,\u001b[0m \u001b[1;33m)\u001b[0m\u001b[1;33m)\u001b[0m\u001b[1;33m\u001b[0m\u001b[0m\n",
      "\u001b[0;31mAttributeError\u001b[0m: 'NoneType' object has no attribute 'predict'"
     ]
    }
   ],
   "source": [
    "# evaluate on test set\n",
    "# Evaluate the best svm on test set\n",
    "y_test_pred = best_softmax.predict(X_test)\n",
    "test_accuracy = np.mean(y_test == y_test_pred)\n",
    "print ('softmax on raw pixels final test set accuracy: {}'.format(test_accuracy, ))"
   ]
  },
  {
   "cell_type": "code",
   "execution_count": null,
   "metadata": {
    "collapsed": false
   },
   "outputs": [],
   "source": [
    "# Visualize the learned weights for each class\n",
    "w = best_softmax.W[:,:-1] # strip out the bias\n",
    "w = w.reshape(10, 32, 32, 3)\n",
    "\n",
    "w_min, w_max = np.min(w), np.max(w)\n",
    "\n",
    "classes = ['plane', 'car', 'bird', 'cat', 'deer', 'dog', 'frog', 'horse', 'ship', 'truck']\n",
    "for i in xrange(10):\n",
    "  plt.subplot(2, 5, i + 1)\n",
    "  \n",
    "  # Rescale the weights to be between 0 and 255\n",
    "  wimg = 255.0 * (w[i].squeeze() - w_min) / (w_max - w_min)\n",
    "  plt.imshow(wimg.astype('uint8'))\n",
    "  plt.axis('off')\n",
    "  plt.title(classes[i])"
   ]
  }
 ],
 "metadata": {
  "anaconda-cloud": {},
  "kernelspec": {
   "display_name": "Python [default]",
   "language": "python",
   "name": "python3"
  },
  "language_info": {
   "codemirror_mode": {
    "name": "ipython",
    "version": 3
   },
   "file_extension": ".py",
   "mimetype": "text/x-python",
   "name": "python",
   "nbconvert_exporter": "python",
   "pygments_lexer": "ipython3",
   "version": "3.5.2"
  }
 },
 "nbformat": 4,
 "nbformat_minor": 0
}
